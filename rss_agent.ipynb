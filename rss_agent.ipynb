{
 "cells": [
  {
   "cell_type": "code",
   "execution_count": 1,
   "id": "775255df",
   "metadata": {},
   "outputs": [
    {
     "data": {
      "text/html": [
       "<pre style=\"white-space:pre;overflow-x:auto;line-height:normal;font-family:Menlo,'DejaVu Sans Mono',consolas,'Courier New',monospace\">Let's break down the question step by step to understand what RSS <span style=\"font-weight: bold\">(</span>Really Simple Syndication<span style=\"font-weight: bold\">)</span> is.\n",
       "\n",
       "Step <span style=\"color: #008080; text-decoration-color: #008080; font-weight: bold\">1</span>: Understanding the term <span style=\"color: #008000; text-decoration-color: #008000\">\"syndication\"</span>\n",
       "Syndication refers to the process of sharing content, such as news articles, blog posts, or videos, across multiple\n",
       "platforms and websites. This allows users to access their favorite content from a single location, rather than \n",
       "having to visit each website individually.\n",
       "\n",
       "Step <span style=\"color: #008080; text-decoration-color: #008080; font-weight: bold\">2</span>: What is RSS?\n",
       "RSS is a format for syndicating content between web applications and services. It was originally designed by Dan \n",
       "Cahn in <span style=\"color: #008080; text-decoration-color: #008080; font-weight: bold\">1999</span> as a way to share news articles among bloggers and websites.\n",
       "\n",
       "Step <span style=\"color: #008080; text-decoration-color: #008080; font-weight: bold\">3</span>: Key features of RSS\n",
       "RSS allows users to:\n",
       "- Subscribe to their favorite websites or blogs\n",
       "- Receive updates automatically when new content is published\n",
       "- View summaries or excerpts of the content, often accompanied by images or other media\n",
       "\n",
       "Step <span style=\"color: #008080; text-decoration-color: #008080; font-weight: bold\">4</span>: Why use RSS?\n",
       "Using RSS can be beneficial for several reasons:\n",
       "- It simplifies access to multiple sources of content in one place\n",
       "- It allows users to stay up-to-date with their favorite topics and websites\n",
       "- It provides a standardized format for sharing and consuming content across the web\n",
       "\n",
       "In summary, RSS is a protocol that enables the sharing of content between websites, allowing users to easily \n",
       "subscribe and receive updates from their favorite sources.\n",
       "</pre>\n"
      ],
      "text/plain": [
       "Let's break down the question step by step to understand what RSS \u001b[1m(\u001b[0mReally Simple Syndication\u001b[1m)\u001b[0m is.\n",
       "\n",
       "Step \u001b[1;36m1\u001b[0m: Understanding the term \u001b[32m\"syndication\"\u001b[0m\n",
       "Syndication refers to the process of sharing content, such as news articles, blog posts, or videos, across multiple\n",
       "platforms and websites. This allows users to access their favorite content from a single location, rather than \n",
       "having to visit each website individually.\n",
       "\n",
       "Step \u001b[1;36m2\u001b[0m: What is RSS?\n",
       "RSS is a format for syndicating content between web applications and services. It was originally designed by Dan \n",
       "Cahn in \u001b[1;36m1999\u001b[0m as a way to share news articles among bloggers and websites.\n",
       "\n",
       "Step \u001b[1;36m3\u001b[0m: Key features of RSS\n",
       "RSS allows users to:\n",
       "- Subscribe to their favorite websites or blogs\n",
       "- Receive updates automatically when new content is published\n",
       "- View summaries or excerpts of the content, often accompanied by images or other media\n",
       "\n",
       "Step \u001b[1;36m4\u001b[0m: Why use RSS?\n",
       "Using RSS can be beneficial for several reasons:\n",
       "- It simplifies access to multiple sources of content in one place\n",
       "- It allows users to stay up-to-date with their favorite topics and websites\n",
       "- It provides a standardized format for sharing and consuming content across the web\n",
       "\n",
       "In summary, RSS is a protocol that enables the sharing of content between websites, allowing users to easily \n",
       "subscribe and receive updates from their favorite sources.\n"
      ]
     },
     "metadata": {},
     "output_type": "display_data"
    }
   ],
   "source": [
    "from langchain_core.prompts import ChatPromptTemplate\n",
    "from langchain_ollama.llms import OllamaLLM\n",
    "from rich import print\n",
    "import feedparser\n",
    "\n",
    "template = \"\"\"Question: {question}\n",
    "\n",
    "Answer: Let's think step by step.\"\"\"\n",
    "\n",
    "prompt = ChatPromptTemplate.from_template(template)\n",
    "\n",
    "model = OllamaLLM(model=\"llama3.2\")\n",
    "\n",
    "chain = prompt | model\n",
    "\n",
    "print(chain.invoke({\"question\": \"What is RSS?\"}))"
   ]
  },
  {
   "cell_type": "code",
   "execution_count": 4,
   "id": "335d4964",
   "metadata": {},
   "outputs": [
    {
     "data": {
      "text/html": [
       "<pre style=\"white-space:pre;overflow-x:auto;line-height:normal;font-family:Menlo,'DejaVu Sans Mono',consolas,'Courier New',monospace\">NASA’s SpaceX Demo-<span style=\"color: #008080; text-decoration-color: #008080; font-weight: bold\">2</span> Launch Fifth Anniversary\n",
       "</pre>\n"
      ],
      "text/plain": [
       "NASA’s SpaceX Demo-\u001b[1;36m2\u001b[0m Launch Fifth Anniversary\n"
      ]
     },
     "metadata": {},
     "output_type": "display_data"
    },
    {
     "data": {
      "text/html": [
       "<pre style=\"white-space:pre;overflow-x:auto;line-height:normal;font-family:Menlo,'DejaVu Sans Mono',consolas,'Courier New',monospace\">President Donald Trump walks onstage to speak to a crowd at NASA’s Kennedy Space Center in Florida, following the \n",
       "launch of NASA’s SpaceX Demo-<span style=\"color: #008080; text-decoration-color: #008080; font-weight: bold\">2</span> mission on May <span style=\"color: #008080; text-decoration-color: #008080; font-weight: bold\">30</span>, <span style=\"color: #008080; text-decoration-color: #008080; font-weight: bold\">2020</span>. The mission was the first crewed launch of the SpaceX Crew \n",
       "Dragon spacecraft and Falcon <span style=\"color: #008080; text-decoration-color: #008080; font-weight: bold\">9</span> rocket to the International Space Station as part of the <span style=\"font-weight: bold\">[</span>&amp;#<span style=\"color: #008080; text-decoration-color: #008080; font-weight: bold\">8230</span>;<span style=\"font-weight: bold\">]</span>\n",
       "</pre>\n"
      ],
      "text/plain": [
       "President Donald Trump walks onstage to speak to a crowd at NASA’s Kennedy Space Center in Florida, following the \n",
       "launch of NASA’s SpaceX Demo-\u001b[1;36m2\u001b[0m mission on May \u001b[1;36m30\u001b[0m, \u001b[1;36m2020\u001b[0m. The mission was the first crewed launch of the SpaceX Crew \n",
       "Dragon spacecraft and Falcon \u001b[1;36m9\u001b[0m rocket to the International Space Station as part of the \u001b[1m[\u001b[0m&#\u001b[1;36m8230\u001b[0m;\u001b[1m]\u001b[0m\n"
      ]
     },
     "metadata": {},
     "output_type": "display_data"
    },
    {
     "data": {
      "text/html": [
       "<pre style=\"white-space:pre;overflow-x:auto;line-height:normal;font-family:Menlo,'DejaVu Sans Mono',consolas,'Courier New',monospace\"><span style=\"color: #0000ff; text-decoration-color: #0000ff; text-decoration: underline\">https://www.nasa.gov/image-article/nasas-spacex-demo-2-launch-fifth-anniversary/</span>\n",
       "</pre>\n"
      ],
      "text/plain": [
       "\u001b[4;94mhttps://www.nasa.gov/image-article/nasas-spacex-demo-2-launch-fifth-anniversary/\u001b[0m\n"
      ]
     },
     "metadata": {},
     "output_type": "display_data"
    },
    {
     "data": {
      "text/html": [
       "<pre style=\"white-space:pre;overflow-x:auto;line-height:normal;font-family:Menlo,'DejaVu Sans Mono',consolas,'Courier New',monospace\">How Do We Do Research in Zero Gravity? We Asked a NASA Expert: Episode <span style=\"color: #008080; text-decoration-color: #008080; font-weight: bold\">62</span>\n",
       "</pre>\n"
      ],
      "text/plain": [
       "How Do We Do Research in Zero Gravity? We Asked a NASA Expert: Episode \u001b[1;36m62\u001b[0m\n"
      ]
     },
     "metadata": {},
     "output_type": "display_data"
    },
    {
     "data": {
      "text/html": [
       "<pre style=\"white-space:pre;overflow-x:auto;line-height:normal;font-family:Menlo,'DejaVu Sans Mono',consolas,'Courier New',monospace\">How do we do research in zero gravity? Actually when astronauts do experiments on the International Space Station, \n",
       "for instance, to environment on organisms, that environment is actually technically called microgravity. That is, \n",
       "things feel weightless, but we&amp;#<span style=\"color: #008080; text-decoration-color: #008080; font-weight: bold\">8217</span>;re still under the influence of Earth&amp;#<span style=\"color: #008080; text-decoration-color: #008080; font-weight: bold\">8217</span>;s gravity. Now, the very \n",
       "microgravity that we&amp;#<span style=\"color: #008080; text-decoration-color: #008080; font-weight: bold\">8217</span>;re trying to study up <span style=\"font-weight: bold\">[</span>&amp;#<span style=\"color: #008080; text-decoration-color: #008080; font-weight: bold\">8230</span>;<span style=\"font-weight: bold\">]</span>\n",
       "</pre>\n"
      ],
      "text/plain": [
       "How do we do research in zero gravity? Actually when astronauts do experiments on the International Space Station, \n",
       "for instance, to environment on organisms, that environment is actually technically called microgravity. That is, \n",
       "things feel weightless, but we&#\u001b[1;36m8217\u001b[0m;re still under the influence of Earth&#\u001b[1;36m8217\u001b[0m;s gravity. Now, the very \n",
       "microgravity that we&#\u001b[1;36m8217\u001b[0m;re trying to study up \u001b[1m[\u001b[0m&#\u001b[1;36m8230\u001b[0m;\u001b[1m]\u001b[0m\n"
      ]
     },
     "metadata": {},
     "output_type": "display_data"
    },
    {
     "data": {
      "text/html": [
       "<pre style=\"white-space:pre;overflow-x:auto;line-height:normal;font-family:Menlo,'DejaVu Sans Mono',consolas,'Courier New',monospace\"><span style=\"color: #0000ff; text-decoration-color: #0000ff; text-decoration: underline\">https://www.nasa.gov/missions/station/iss-research/how-do-we-do-research-in-zero-gravity-we-asked-a-nasa-expert-epi</span>\n",
       "<span style=\"color: #0000ff; text-decoration-color: #0000ff; text-decoration: underline\">sode-62/</span>\n",
       "</pre>\n"
      ],
      "text/plain": [
       "\u001b[4;94mhttps://www.nasa.gov/missions/station/iss-research/how-do-we-do-research-in-zero-gravity-we-asked-a-nasa-expert-epi\u001b[0m\n",
       "\u001b[4;94msode-62/\u001b[0m\n"
      ]
     },
     "metadata": {},
     "output_type": "display_data"
    },
    {
     "data": {
      "text/html": [
       "<pre style=\"white-space:pre;overflow-x:auto;line-height:normal;font-family:Menlo,'DejaVu Sans Mono',consolas,'Courier New',monospace\">NASA Astronaut to Answer Questions from Students in Washington State\n",
       "</pre>\n"
      ],
      "text/plain": [
       "NASA Astronaut to Answer Questions from Students in Washington State\n"
      ]
     },
     "metadata": {},
     "output_type": "display_data"
    },
    {
     "data": {
      "text/html": [
       "<pre style=\"white-space:pre;overflow-x:auto;line-height:normal;font-family:Menlo,'DejaVu Sans Mono',consolas,'Courier New',monospace\">NASA astronaut and Spokane, Washington, native Anne McClain will participate in an event with students from the \n",
       "Mobius Discovery Center located in her hometown. McClain will answer prerecorded questions submitted by students \n",
       "from aboard the International Space Station. Watch the <span style=\"color: #008080; text-decoration-color: #008080; font-weight: bold\">20</span>-minute Earth-to-space call on the NASA STEM YouTube \n",
       "Channel. The event will take place at <span style=\"font-weight: bold\">[</span>&amp;#<span style=\"color: #008080; text-decoration-color: #008080; font-weight: bold\">8230</span>;<span style=\"font-weight: bold\">]</span>\n",
       "</pre>\n"
      ],
      "text/plain": [
       "NASA astronaut and Spokane, Washington, native Anne McClain will participate in an event with students from the \n",
       "Mobius Discovery Center located in her hometown. McClain will answer prerecorded questions submitted by students \n",
       "from aboard the International Space Station. Watch the \u001b[1;36m20\u001b[0m-minute Earth-to-space call on the NASA STEM YouTube \n",
       "Channel. The event will take place at \u001b[1m[\u001b[0m&#\u001b[1;36m8230\u001b[0m;\u001b[1m]\u001b[0m\n"
      ]
     },
     "metadata": {},
     "output_type": "display_data"
    },
    {
     "data": {
      "text/html": [
       "<pre style=\"white-space:pre;overflow-x:auto;line-height:normal;font-family:Menlo,'DejaVu Sans Mono',consolas,'Courier New',monospace\"><span style=\"color: #0000ff; text-decoration-color: #0000ff; text-decoration: underline\">https://www.nasa.gov/news-release/nasa-astronaut-to-answer-questions-from-students-in-washington-state/</span>\n",
       "</pre>\n"
      ],
      "text/plain": [
       "\u001b[4;94mhttps://www.nasa.gov/news-release/nasa-astronaut-to-answer-questions-from-students-in-washington-state/\u001b[0m\n"
      ]
     },
     "metadata": {},
     "output_type": "display_data"
    },
    {
     "data": {
      "text/html": [
       "<pre style=\"white-space:pre;overflow-x:auto;line-height:normal;font-family:Menlo,'DejaVu Sans Mono',consolas,'Courier New',monospace\">Station Nation: Meet Megan Harvey, Utilization Flight Lead and Capsule Communicator\n",
       "</pre>\n"
      ],
      "text/plain": [
       "Station Nation: Meet Megan Harvey, Utilization Flight Lead and Capsule Communicator\n"
      ]
     },
     "metadata": {},
     "output_type": "display_data"
    },
    {
     "data": {
      "text/html": [
       "<pre style=\"white-space:pre;overflow-x:auto;line-height:normal;font-family:Menlo,'DejaVu Sans Mono',consolas,'Courier New',monospace\">Megan Harvey is a utilization flight lead and capsule communicator, or capcom, in the Research Integration Office \n",
       "at NASA’s Johnson Space Center in Houston. She integrates science payload constraints related to vehicles’ launch \n",
       "and landing schedules. She is also working to coordinate logistics for the return of SpaceX vehicles to West Coast \n",
       "landing sites.&amp;#<span style=\"color: #008080; text-decoration-color: #008080; font-weight: bold\">160</span>; Read <span style=\"font-weight: bold\">[</span>&amp;#<span style=\"color: #008080; text-decoration-color: #008080; font-weight: bold\">8230</span>;<span style=\"font-weight: bold\">]</span>\n",
       "</pre>\n"
      ],
      "text/plain": [
       "Megan Harvey is a utilization flight lead and capsule communicator, or capcom, in the Research Integration Office \n",
       "at NASA’s Johnson Space Center in Houston. She integrates science payload constraints related to vehicles’ launch \n",
       "and landing schedules. She is also working to coordinate logistics for the return of SpaceX vehicles to West Coast \n",
       "landing sites.&#\u001b[1;36m160\u001b[0m; Read \u001b[1m[\u001b[0m&#\u001b[1;36m8230\u001b[0m;\u001b[1m]\u001b[0m\n"
      ]
     },
     "metadata": {},
     "output_type": "display_data"
    },
    {
     "data": {
      "text/html": [
       "<pre style=\"white-space:pre;overflow-x:auto;line-height:normal;font-family:Menlo,'DejaVu Sans Mono',consolas,'Courier New',monospace\"><span style=\"color: #0000ff; text-decoration-color: #0000ff; text-decoration: underline\">https://www.nasa.gov/centers-and-facilities/johnson/station-nation-meet-megan-harvey-utilization-flight-lead-and-ca</span>\n",
       "<span style=\"color: #0000ff; text-decoration-color: #0000ff; text-decoration: underline\">psule-communicator/</span>\n",
       "</pre>\n"
      ],
      "text/plain": [
       "\u001b[4;94mhttps://www.nasa.gov/centers-and-facilities/johnson/station-nation-meet-megan-harvey-utilization-flight-lead-and-ca\u001b[0m\n",
       "\u001b[4;94mpsule-communicator/\u001b[0m\n"
      ]
     },
     "metadata": {},
     "output_type": "display_data"
    },
    {
     "data": {
      "text/html": [
       "<pre style=\"white-space:pre;overflow-x:auto;line-height:normal;font-family:Menlo,'DejaVu Sans Mono',consolas,'Courier New',monospace\">NASA Sets Coverage for 32nd SpaceX Resupply Mission Departure\n",
       "</pre>\n"
      ],
      "text/plain": [
       "NASA Sets Coverage for 32nd SpaceX Resupply Mission Departure\n"
      ]
     },
     "metadata": {},
     "output_type": "display_data"
    },
    {
     "data": {
      "text/html": [
       "<pre style=\"white-space:pre;overflow-x:auto;line-height:normal;font-family:Menlo,'DejaVu Sans Mono',consolas,'Courier New',monospace\">Editor’s Note: This advisory was updated on May <span style=\"color: #008080; text-decoration-color: #008080; font-weight: bold\">22</span>, <span style=\"color: #008080; text-decoration-color: #008080; font-weight: bold\">2025</span>, to reflect new return timing for SpaceX&amp;#<span style=\"color: #008080; text-decoration-color: #008080; font-weight: bold\">8217</span>;s 32nd \n",
       "commercial resupply services mission for NASA. Editor&amp;#<span style=\"color: #008080; text-decoration-color: #008080; font-weight: bold\">8217</span>;s Note: This advisory was updated on May <span style=\"color: #008080; text-decoration-color: #008080; font-weight: bold\">22</span>, <span style=\"color: #008080; text-decoration-color: #008080; font-weight: bold\">2025</span>, as \n",
       "NASA and SpaceX are standing down from Thursday’s undocking opportunity of Dragon. NASA will provide additional \n",
       "information on the next <span style=\"font-weight: bold\">[</span>&amp;#<span style=\"color: #008080; text-decoration-color: #008080; font-weight: bold\">8230</span>;<span style=\"font-weight: bold\">]</span>\n",
       "</pre>\n"
      ],
      "text/plain": [
       "Editor’s Note: This advisory was updated on May \u001b[1;36m22\u001b[0m, \u001b[1;36m2025\u001b[0m, to reflect new return timing for SpaceX&#\u001b[1;36m8217\u001b[0m;s 32nd \n",
       "commercial resupply services mission for NASA. Editor&#\u001b[1;36m8217\u001b[0m;s Note: This advisory was updated on May \u001b[1;36m22\u001b[0m, \u001b[1;36m2025\u001b[0m, as \n",
       "NASA and SpaceX are standing down from Thursday’s undocking opportunity of Dragon. NASA will provide additional \n",
       "information on the next \u001b[1m[\u001b[0m&#\u001b[1;36m8230\u001b[0m;\u001b[1m]\u001b[0m\n"
      ]
     },
     "metadata": {},
     "output_type": "display_data"
    },
    {
     "data": {
      "text/html": [
       "<pre style=\"white-space:pre;overflow-x:auto;line-height:normal;font-family:Menlo,'DejaVu Sans Mono',consolas,'Courier New',monospace\"><span style=\"color: #0000ff; text-decoration-color: #0000ff; text-decoration: underline\">https://www.nasa.gov/news-release/nasa-sets-coverage-for-32nd-spacex-resupply-mission-departure/</span>\n",
       "</pre>\n"
      ],
      "text/plain": [
       "\u001b[4;94mhttps://www.nasa.gov/news-release/nasa-sets-coverage-for-32nd-spacex-resupply-mission-departure/\u001b[0m\n"
      ]
     },
     "metadata": {},
     "output_type": "display_data"
    },
    {
     "data": {
      "text/html": [
       "<pre style=\"white-space:pre;overflow-x:auto;line-height:normal;font-family:Menlo,'DejaVu Sans Mono',consolas,'Courier New',monospace\">Unearthly Plumbing Required for Plant Watering in Space\n",
       "</pre>\n"
      ],
      "text/plain": [
       "Unearthly Plumbing Required for Plant Watering in Space\n"
      ]
     },
     "metadata": {},
     "output_type": "display_data"
    },
    {
     "data": {
      "text/html": [
       "<pre style=\"white-space:pre;overflow-x:auto;line-height:normal;font-family:Menlo,'DejaVu Sans Mono',consolas,'Courier New',monospace\">NASA is demonstrating new microgravity fluids technologies to enable advanced “no-moving-parts” plant-watering \n",
       "methods aboard spacecraft. Crop production in microgravity will be important to provide whole food nutrition, \n",
       "dietary variety, and psychological benefits to astronauts exploring deep space. Unfortunately, even the simplest \n",
       "terrestrial plant watering methods face significant challenges when applied aboard spacecraft due to rogue <span style=\"font-weight: bold\">[</span>…<span style=\"font-weight: bold\">]</span>\n",
       "</pre>\n"
      ],
      "text/plain": [
       "NASA is demonstrating new microgravity fluids technologies to enable advanced “no-moving-parts” plant-watering \n",
       "methods aboard spacecraft. Crop production in microgravity will be important to provide whole food nutrition, \n",
       "dietary variety, and psychological benefits to astronauts exploring deep space. Unfortunately, even the simplest \n",
       "terrestrial plant watering methods face significant challenges when applied aboard spacecraft due to rogue \u001b[1m[\u001b[0m…\u001b[1m]\u001b[0m\n"
      ]
     },
     "metadata": {},
     "output_type": "display_data"
    },
    {
     "data": {
      "text/html": [
       "<pre style=\"white-space:pre;overflow-x:auto;line-height:normal;font-family:Menlo,'DejaVu Sans Mono',consolas,'Courier New',monospace\"><span style=\"color: #0000ff; text-decoration-color: #0000ff; text-decoration: underline\">https://science.nasa.gov/science-research/science-enabling-technology/unearthly-plumbing-required-for-plant-waterin</span>\n",
       "<span style=\"color: #0000ff; text-decoration-color: #0000ff; text-decoration: underline\">g-in-space/</span>\n",
       "</pre>\n"
      ],
      "text/plain": [
       "\u001b[4;94mhttps://science.nasa.gov/science-research/science-enabling-technology/unearthly-plumbing-required-for-plant-waterin\u001b[0m\n",
       "\u001b[4;94mg-in-space/\u001b[0m\n"
      ]
     },
     "metadata": {},
     "output_type": "display_data"
    },
    {
     "data": {
      "text/html": [
       "<pre style=\"white-space:pre;overflow-x:auto;line-height:normal;font-family:Menlo,'DejaVu Sans Mono',consolas,'Courier New',monospace\">NASA, International Astronauts Address Students from New York, Ohio\n",
       "</pre>\n"
      ],
      "text/plain": [
       "NASA, International Astronauts Address Students from New York, Ohio\n"
      ]
     },
     "metadata": {},
     "output_type": "display_data"
    },
    {
     "data": {
      "text/html": [
       "<pre style=\"white-space:pre;overflow-x:auto;line-height:normal;font-family:Menlo,'DejaVu Sans Mono',consolas,'Courier New',monospace\">Editor’s Note: This advisory was updated on Thursday, May <span style=\"color: #008080; text-decoration-color: #008080; font-weight: bold\">22</span> to correct that NASA astronaut Anne McClain will \n",
       "participate in the event on Friday, May <span style=\"color: #008080; text-decoration-color: #008080; font-weight: bold\">23</span>, with Vermillion High School and to reflect that the start time for the \n",
       "event has changed to <span style=\"color: #00ff00; text-decoration-color: #00ff00; font-weight: bold\">10:10</span> a.m. EDT. NASA astronauts Nichole Ayers and JAXA <span style=\"font-weight: bold\">(</span>Japan Aerospace Exploration <span style=\"font-weight: bold\">[</span>&amp;#<span style=\"color: #008080; text-decoration-color: #008080; font-weight: bold\">8230</span>;<span style=\"font-weight: bold\">]</span>\n",
       "</pre>\n"
      ],
      "text/plain": [
       "Editor’s Note: This advisory was updated on Thursday, May \u001b[1;36m22\u001b[0m to correct that NASA astronaut Anne McClain will \n",
       "participate in the event on Friday, May \u001b[1;36m23\u001b[0m, with Vermillion High School and to reflect that the start time for the \n",
       "event has changed to \u001b[1;92m10:10\u001b[0m a.m. EDT. NASA astronauts Nichole Ayers and JAXA \u001b[1m(\u001b[0mJapan Aerospace Exploration \u001b[1m[\u001b[0m&#\u001b[1;36m8230\u001b[0m;\u001b[1m]\u001b[0m\n"
      ]
     },
     "metadata": {},
     "output_type": "display_data"
    },
    {
     "data": {
      "text/html": [
       "<pre style=\"white-space:pre;overflow-x:auto;line-height:normal;font-family:Menlo,'DejaVu Sans Mono',consolas,'Courier New',monospace\"><span style=\"color: #0000ff; text-decoration-color: #0000ff; text-decoration: underline\">https://www.nasa.gov/news-release/nasa-international-astronauts-address-students-from-new-york-ohio/</span>\n",
       "</pre>\n"
      ],
      "text/plain": [
       "\u001b[4;94mhttps://www.nasa.gov/news-release/nasa-international-astronauts-address-students-from-new-york-ohio/\u001b[0m\n"
      ]
     },
     "metadata": {},
     "output_type": "display_data"
    },
    {
     "data": {
      "text/html": [
       "<pre style=\"white-space:pre;overflow-x:auto;line-height:normal;font-family:Menlo,'DejaVu Sans Mono',consolas,'Courier New',monospace\">Spacewalk Research and Technology\n",
       "</pre>\n"
      ],
      "text/plain": [
       "Spacewalk Research and Technology\n"
      ]
     },
     "metadata": {},
     "output_type": "display_data"
    },
    {
     "data": {
      "text/html": [
       "<pre style=\"white-space:pre;overflow-x:auto;line-height:normal;font-family:Menlo,'DejaVu Sans Mono',consolas,'Courier New',monospace\">Science in Space: May Crew members on the International Space Station periodically conduct spacewalks to perform a \n",
       "variety of tasks such as installing, upgrading, and repairing equipment. During a spacewalk on May <span style=\"color: #008080; text-decoration-color: #008080; font-weight: bold\">1</span>, astronauts \n",
       "installed hardware to support the planned addition of a seventh roll-out solar array on the exterior of the space \n",
       "station. Each <span style=\"font-weight: bold\">[</span>&amp;#<span style=\"color: #008080; text-decoration-color: #008080; font-weight: bold\">8230</span>;<span style=\"font-weight: bold\">]</span>\n",
       "</pre>\n"
      ],
      "text/plain": [
       "Science in Space: May Crew members on the International Space Station periodically conduct spacewalks to perform a \n",
       "variety of tasks such as installing, upgrading, and repairing equipment. During a spacewalk on May \u001b[1;36m1\u001b[0m, astronauts \n",
       "installed hardware to support the planned addition of a seventh roll-out solar array on the exterior of the space \n",
       "station. Each \u001b[1m[\u001b[0m&#\u001b[1;36m8230\u001b[0m;\u001b[1m]\u001b[0m\n"
      ]
     },
     "metadata": {},
     "output_type": "display_data"
    },
    {
     "data": {
      "text/html": [
       "<pre style=\"white-space:pre;overflow-x:auto;line-height:normal;font-family:Menlo,'DejaVu Sans Mono',consolas,'Courier New',monospace\"><span style=\"color: #0000ff; text-decoration-color: #0000ff; text-decoration: underline\">https://www.nasa.gov/missions/station/iss-research/spacewalk-research-and-technology/</span>\n",
       "</pre>\n"
      ],
      "text/plain": [
       "\u001b[4;94mhttps://www.nasa.gov/missions/station/iss-research/spacewalk-research-and-technology/\u001b[0m\n"
      ]
     },
     "metadata": {},
     "output_type": "display_data"
    },
    {
     "data": {
      "text/html": [
       "<pre style=\"white-space:pre;overflow-x:auto;line-height:normal;font-family:Menlo,'DejaVu Sans Mono',consolas,'Courier New',monospace\">NASA to Participate in Next Private Astronaut Mission Teleconference\n",
       "</pre>\n"
      ],
      "text/plain": [
       "NASA to Participate in Next Private Astronaut Mission Teleconference\n"
      ]
     },
     "metadata": {},
     "output_type": "display_data"
    },
    {
     "data": {
      "text/html": [
       "<pre style=\"white-space:pre;overflow-x:auto;line-height:normal;font-family:Menlo,'DejaVu Sans Mono',consolas,'Courier New',monospace\">Editor’s Note: This advisory was updated May <span style=\"color: #008080; text-decoration-color: #008080; font-weight: bold\">19</span>, <span style=\"color: #008080; text-decoration-color: #008080; font-weight: bold\">2025</span>, to add a participant in the media teleconference. NASA will \n",
       "join a media teleconference hosted by Axiom Space at <span style=\"color: #00ff00; text-decoration-color: #00ff00; font-weight: bold\">10:30</span> a.m. EDT, Tuesday, May <span style=\"color: #008080; text-decoration-color: #008080; font-weight: bold\">20</span>, to discuss the launch of \n",
       "Axiom Mission <span style=\"color: #008080; text-decoration-color: #008080; font-weight: bold\">4</span> <span style=\"font-weight: bold\">(</span>Ax-<span style=\"color: #008080; text-decoration-color: #008080; font-weight: bold\">4</span><span style=\"font-weight: bold\">)</span>, the fourth private astronaut mission to the International Space Station. Briefing \n",
       "participants <span style=\"font-weight: bold\">[</span>&amp;#<span style=\"color: #008080; text-decoration-color: #008080; font-weight: bold\">8230</span>;<span style=\"font-weight: bold\">]</span>\n",
       "</pre>\n"
      ],
      "text/plain": [
       "Editor’s Note: This advisory was updated May \u001b[1;36m19\u001b[0m, \u001b[1;36m2025\u001b[0m, to add a participant in the media teleconference. NASA will \n",
       "join a media teleconference hosted by Axiom Space at \u001b[1;92m10:30\u001b[0m a.m. EDT, Tuesday, May \u001b[1;36m20\u001b[0m, to discuss the launch of \n",
       "Axiom Mission \u001b[1;36m4\u001b[0m \u001b[1m(\u001b[0mAx-\u001b[1;36m4\u001b[0m\u001b[1m)\u001b[0m, the fourth private astronaut mission to the International Space Station. Briefing \n",
       "participants \u001b[1m[\u001b[0m&#\u001b[1;36m8230\u001b[0m;\u001b[1m]\u001b[0m\n"
      ]
     },
     "metadata": {},
     "output_type": "display_data"
    },
    {
     "data": {
      "text/html": [
       "<pre style=\"white-space:pre;overflow-x:auto;line-height:normal;font-family:Menlo,'DejaVu Sans Mono',consolas,'Courier New',monospace\"><span style=\"color: #0000ff; text-decoration-color: #0000ff; text-decoration: underline\">https://www.nasa.gov/news-release/nasa-to-participate-in-next-private-astronaut-mission-teleconference/</span>\n",
       "</pre>\n"
      ],
      "text/plain": [
       "\u001b[4;94mhttps://www.nasa.gov/news-release/nasa-to-participate-in-next-private-astronaut-mission-teleconference/\u001b[0m\n"
      ]
     },
     "metadata": {},
     "output_type": "display_data"
    },
    {
     "data": {
      "text/html": [
       "<pre style=\"white-space:pre;overflow-x:auto;line-height:normal;font-family:Menlo,'DejaVu Sans Mono',consolas,'Courier New',monospace\">Lightning in Southeast Asia\n",
       "</pre>\n"
      ],
      "text/plain": [
       "Lightning in Southeast Asia\n"
      ]
     },
     "metadata": {},
     "output_type": "display_data"
    },
    {
     "data": {
      "text/html": [
       "<pre style=\"white-space:pre;overflow-x:auto;line-height:normal;font-family:Menlo,'DejaVu Sans Mono',consolas,'Courier New',monospace\">A flash of lightning shines brighter than the lights of nearby cities in this Oct. <span style=\"color: #008080; text-decoration-color: #008080; font-weight: bold\">29</span>, <span style=\"color: #008080; text-decoration-color: #008080; font-weight: bold\">2024</span>, image taken by \n",
       "astronaut Don Pettit while aboard the International Space Station. At the time of this photograph, little to no \n",
       "moonlight illuminated the scene. This allows astronauts to see and photograph a variety of light sources with \n",
       "<span style=\"font-weight: bold\">[</span>&amp;#<span style=\"color: #008080; text-decoration-color: #008080; font-weight: bold\">8230</span>;<span style=\"font-weight: bold\">]</span>\n",
       "</pre>\n"
      ],
      "text/plain": [
       "A flash of lightning shines brighter than the lights of nearby cities in this Oct. \u001b[1;36m29\u001b[0m, \u001b[1;36m2024\u001b[0m, image taken by \n",
       "astronaut Don Pettit while aboard the International Space Station. At the time of this photograph, little to no \n",
       "moonlight illuminated the scene. This allows astronauts to see and photograph a variety of light sources with \n",
       "\u001b[1m[\u001b[0m&#\u001b[1;36m8230\u001b[0m;\u001b[1m]\u001b[0m\n"
      ]
     },
     "metadata": {},
     "output_type": "display_data"
    },
    {
     "data": {
      "text/html": [
       "<pre style=\"white-space:pre;overflow-x:auto;line-height:normal;font-family:Menlo,'DejaVu Sans Mono',consolas,'Courier New',monospace\"><span style=\"color: #0000ff; text-decoration-color: #0000ff; text-decoration: underline\">https://www.nasa.gov/image-article/lightning-in-southeast-asia/</span>\n",
       "</pre>\n"
      ],
      "text/plain": [
       "\u001b[4;94mhttps://www.nasa.gov/image-article/lightning-in-southeast-asia/\u001b[0m\n"
      ]
     },
     "metadata": {},
     "output_type": "display_data"
    }
   ],
   "source": [
    "rss_feed_test = \"https://www.nasa.gov/missions/station/feed/\"\n",
    "feed = feedparser.parse(rss_feed_test)\n",
    "if feed.status == 200:\n",
    "    for entry in feed.entries:\n",
    "        print(entry.title)\n",
    "        print(entry.description)\n",
    "        # print(entry.description)\n",
    "        print(entry.link)\n",
    "else:\n",
    "    print(\"Failed to get RSS feed. Status code:\", feed.status)"
   ]
  }
 ],
 "metadata": {
  "kernelspec": {
   "display_name": ".venv",
   "language": "python",
   "name": "python3"
  },
  "language_info": {
   "codemirror_mode": {
    "name": "ipython",
    "version": 3
   },
   "file_extension": ".py",
   "mimetype": "text/x-python",
   "name": "python",
   "nbconvert_exporter": "python",
   "pygments_lexer": "ipython3",
   "version": "3.10.17"
  }
 },
 "nbformat": 4,
 "nbformat_minor": 5
}
